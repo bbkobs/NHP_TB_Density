{
 "cells": [
  {
   "cell_type": "code",
   "execution_count": 1,
   "id": "7470f0c9-d6cb-4c87-bc7f-df5fdb5bbd59",
   "metadata": {},
   "outputs": [
    {
     "name": "stdout",
     "output_type": "stream",
     "text": [
      "Running SCIMAP  2.1.0\n"
     ]
    }
   ],
   "source": [
    "# Load necessary libraries\n",
    "import os\n",
    "import anndata as ad\n",
    "import pandas as pd\n",
    "import pathlib\n",
    "import scanpy as sc\n",
    "import seaborn as sns; sns.set(color_codes=True)\n",
    "\n",
    "# import scimap\n",
    "import scimap as sm \n",
    "\n",
    "def list_quant_paths(current_dir, csv_glob='*cellRing.csv'):\n",
    "    p = pathlib.Path(current_dir).resolve()\n",
    "    data = list(p.glob(f'quantification/{csv_glob}')) + list(p.glob(f'LSP*/quantification/{csv_glob}'))\n",
    "    data = [str(d) for d in data]\n",
    "    return data\n",
    "\n",
    "# Set the working directory\n",
    "os.chdir (\"/Volumes/HiTS/lsp-analysis/cycif-production/17-tuberculosis-aldridge/p17e20_NHPTB_IDOi_main\") \n",
    "current_dir = os.getcwd()\n",
    "#define a variable that will ocntain the file paths to each of the csv files. \n",
    "quant_files = list_quant_paths(current_dir)"
   ]
  },
  {
   "cell_type": "code",
   "execution_count": 2,
   "id": "5d2d8b8b-fe00-4139-b757-721d60623d3a",
   "metadata": {},
   "outputs": [
    {
     "data": {
      "text/plain": [
       "['/Volumes/HITS/lsp-analysis/cycif-production/17-tuberculosis-aldridge/p17e20_NHPTB_IDOi_main/quantification/LSP23692--unmicst_cellRing.csv',\n",
       " '/Volumes/HITS/lsp-analysis/cycif-production/17-tuberculosis-aldridge/p17e20_NHPTB_IDOi_main/quantification/LSP23792--unmicst_cellRing.csv',\n",
       " '/Volumes/HITS/lsp-analysis/cycif-production/17-tuberculosis-aldridge/p17e20_NHPTB_IDOi_main/quantification/LSP23832--unmicst_cellRing.csv',\n",
       " '/Volumes/HITS/lsp-analysis/cycif-production/17-tuberculosis-aldridge/p17e20_NHPTB_IDOi_main/quantification/LSP21946--unmicst_cellRing.csv',\n",
       " '/Volumes/HITS/lsp-analysis/cycif-production/17-tuberculosis-aldridge/p17e20_NHPTB_IDOi_main/quantification/LSP23677--unmicst_cellRing.csv',\n",
       " '/Volumes/HITS/lsp-analysis/cycif-production/17-tuberculosis-aldridge/p17e20_NHPTB_IDOi_main/quantification/LSP23652--unmicst_cellRing.csv',\n",
       " '/Volumes/HITS/lsp-analysis/cycif-production/17-tuberculosis-aldridge/p17e20_NHPTB_IDOi_main/quantification/LSP23712--unmicst_cellRing.csv',\n",
       " '/Volumes/HITS/lsp-analysis/cycif-production/17-tuberculosis-aldridge/p17e20_NHPTB_IDOi_main/quantification/LSP21981--unmicst_cellRing.csv',\n",
       " '/Volumes/HITS/lsp-analysis/cycif-production/17-tuberculosis-aldridge/p17e20_NHPTB_IDOi_main/quantification/LSP23757--unmicst_cellRing.csv',\n",
       " '/Volumes/HITS/lsp-analysis/cycif-production/17-tuberculosis-aldridge/p17e20_NHPTB_IDOi_main/quantification/LSP23742--unmicst_cellRing.csv',\n",
       " '/Volumes/HITS/lsp-analysis/cycif-production/17-tuberculosis-aldridge/p17e20_NHPTB_IDOi_main/quantification/LSP23637--unmicst_cellRing.csv',\n",
       " '/Volumes/HITS/lsp-analysis/cycif-production/17-tuberculosis-aldridge/p17e20_NHPTB_IDOi_main/quantification/LSP23657--unmicst_cellRing.csv',\n",
       " '/Volumes/HITS/lsp-analysis/cycif-production/17-tuberculosis-aldridge/p17e20_NHPTB_IDOi_main/quantification/LSP23777--unmicst_cellRing.csv',\n",
       " '/Volumes/HITS/lsp-analysis/cycif-production/17-tuberculosis-aldridge/p17e20_NHPTB_IDOi_main/quantification/LSP21926--unmicst_cellRing.csv',\n",
       " '/Volumes/HITS/lsp-analysis/cycif-production/17-tuberculosis-aldridge/p17e20_NHPTB_IDOi_main/quantification/LSP21961--unmicst_cellRing.csv',\n",
       " '/Volumes/HITS/lsp-analysis/cycif-production/17-tuberculosis-aldridge/p17e20_NHPTB_IDOi_main/quantification/LSP23817--unmicst_cellRing.csv',\n",
       " '/Volumes/HITS/lsp-analysis/cycif-production/17-tuberculosis-aldridge/p17e20_NHPTB_IDOi_main/quantification/LSP23772--unmicst_cellRing.csv',\n",
       " '/Volumes/HITS/lsp-analysis/cycif-production/17-tuberculosis-aldridge/p17e20_NHPTB_IDOi_main/quantification/LSP23717--unmicst_cellRing.csv']"
      ]
     },
     "execution_count": 2,
     "metadata": {},
     "output_type": "execute_result"
    }
   ],
   "source": [
    "quant_files"
   ]
  },
  {
   "cell_type": "code",
   "execution_count": null,
   "id": "fb1f7fea-b9a0-4a32-bdc0-0b3f62b46993",
   "metadata": {},
   "outputs": [],
   "source": []
  },
  {
   "cell_type": "code",
   "execution_count": 3,
   "id": "5c4271cc-a81f-46d6-9045-16d9bc12f582",
   "metadata": {},
   "outputs": [],
   "source": [
    "#quant_file = ['/PAHT/blakd'] \n",
    "# Upload Mcmicro output into an anndata object \n",
    "# Data will log1 scale \n",
    "# raw data is kept - saved as anndata.raw.X \n",
    "#adata = sm.pp.mcmicro_to_scimap (quant_files, remove_dna=False, log = True) "
   ]
  },
  {
   "cell_type": "code",
   "execution_count": 5,
   "id": "d34fe3f2-8bfa-46df-9d43-bda05eab8e8a",
   "metadata": {},
   "outputs": [
    {
     "name": "stdout",
     "output_type": "stream",
     "text": [
      "Loading and processing /Volumes/HITS/lsp-analysis/cycif-production/17-tuberculosis-aldridge/p17e20_NHPTB_IDOi_main/quantification/LSP23692--unmicst_cellRing.csv\n",
      "Loading LSP23692--unmicst_cellRing.csv\n"
     ]
    },
    {
     "name": "stderr",
     "output_type": "stream",
     "text": [
      "/var/folders/c1/hrvpnjdx3hq53yv639g1ylrw0000gq/T/ipykernel_97629/1474941236.py:6: FutureWarning:\n",
      "\n",
      "Series.__getitem__ treating keys as positions is deprecated. In a future version, integer keys will always be treated as labels (consistent with DataFrame behavior). To access a value by position, use `ser.iloc[pos]`\n",
      "\n",
      "/opt/anaconda3/envs/scimap/lib/python3.10/site-packages/mpl_scatter_density/generic_density_artist.py:77: RuntimeWarning:\n",
      "\n",
      "All-NaN slice encountered\n",
      "\n",
      "/opt/anaconda3/envs/scimap/lib/python3.10/site-packages/mpl_scatter_density/generic_density_artist.py:82: RuntimeWarning:\n",
      "\n",
      "All-NaN slice encountered\n",
      "\n"
     ]
    },
    {
     "name": "stdout",
     "output_type": "stream",
     "text": [
      "Saved heatmap to /Users/hitslsp/Desktop/NHP_Density_Plots/LSP23692--unmicst_cellRingdensityPlot2D.pdf\n",
      "Loading and processing /Volumes/HITS/lsp-analysis/cycif-production/17-tuberculosis-aldridge/p17e20_NHPTB_IDOi_main/quantification/LSP23792--unmicst_cellRing.csv\n",
      "Loading LSP23792--unmicst_cellRing.csv\n"
     ]
    },
    {
     "name": "stderr",
     "output_type": "stream",
     "text": [
      "/var/folders/c1/hrvpnjdx3hq53yv639g1ylrw0000gq/T/ipykernel_97629/1474941236.py:6: FutureWarning:\n",
      "\n",
      "Series.__getitem__ treating keys as positions is deprecated. In a future version, integer keys will always be treated as labels (consistent with DataFrame behavior). To access a value by position, use `ser.iloc[pos]`\n",
      "\n",
      "/opt/anaconda3/envs/scimap/lib/python3.10/site-packages/mpl_scatter_density/generic_density_artist.py:77: RuntimeWarning:\n",
      "\n",
      "All-NaN slice encountered\n",
      "\n",
      "/opt/anaconda3/envs/scimap/lib/python3.10/site-packages/mpl_scatter_density/generic_density_artist.py:82: RuntimeWarning:\n",
      "\n",
      "All-NaN slice encountered\n",
      "\n"
     ]
    },
    {
     "name": "stdout",
     "output_type": "stream",
     "text": [
      "Saved heatmap to /Users/hitslsp/Desktop/NHP_Density_Plots/LSP23792--unmicst_cellRingdensityPlot2D.pdf\n",
      "Loading and processing /Volumes/HITS/lsp-analysis/cycif-production/17-tuberculosis-aldridge/p17e20_NHPTB_IDOi_main/quantification/LSP23832--unmicst_cellRing.csv\n",
      "Loading LSP23832--unmicst_cellRing.csv\n"
     ]
    },
    {
     "name": "stderr",
     "output_type": "stream",
     "text": [
      "/var/folders/c1/hrvpnjdx3hq53yv639g1ylrw0000gq/T/ipykernel_97629/1474941236.py:6: FutureWarning:\n",
      "\n",
      "Series.__getitem__ treating keys as positions is deprecated. In a future version, integer keys will always be treated as labels (consistent with DataFrame behavior). To access a value by position, use `ser.iloc[pos]`\n",
      "\n",
      "/opt/anaconda3/envs/scimap/lib/python3.10/site-packages/mpl_scatter_density/generic_density_artist.py:77: RuntimeWarning:\n",
      "\n",
      "All-NaN slice encountered\n",
      "\n",
      "/opt/anaconda3/envs/scimap/lib/python3.10/site-packages/mpl_scatter_density/generic_density_artist.py:82: RuntimeWarning:\n",
      "\n",
      "All-NaN slice encountered\n",
      "\n"
     ]
    },
    {
     "name": "stdout",
     "output_type": "stream",
     "text": [
      "Saved heatmap to /Users/hitslsp/Desktop/NHP_Density_Plots/LSP23832--unmicst_cellRingdensityPlot2D.pdf\n",
      "Loading and processing /Volumes/HITS/lsp-analysis/cycif-production/17-tuberculosis-aldridge/p17e20_NHPTB_IDOi_main/quantification/LSP21946--unmicst_cellRing.csv\n",
      "Loading LSP21946--unmicst_cellRing.csv\n"
     ]
    },
    {
     "name": "stderr",
     "output_type": "stream",
     "text": [
      "/var/folders/c1/hrvpnjdx3hq53yv639g1ylrw0000gq/T/ipykernel_97629/1474941236.py:6: FutureWarning:\n",
      "\n",
      "Series.__getitem__ treating keys as positions is deprecated. In a future version, integer keys will always be treated as labels (consistent with DataFrame behavior). To access a value by position, use `ser.iloc[pos]`\n",
      "\n",
      "/opt/anaconda3/envs/scimap/lib/python3.10/site-packages/mpl_scatter_density/generic_density_artist.py:77: RuntimeWarning:\n",
      "\n",
      "All-NaN slice encountered\n",
      "\n",
      "/opt/anaconda3/envs/scimap/lib/python3.10/site-packages/mpl_scatter_density/generic_density_artist.py:82: RuntimeWarning:\n",
      "\n",
      "All-NaN slice encountered\n",
      "\n"
     ]
    },
    {
     "name": "stdout",
     "output_type": "stream",
     "text": [
      "Saved heatmap to /Users/hitslsp/Desktop/NHP_Density_Plots/LSP21946--unmicst_cellRingdensityPlot2D.pdf\n",
      "Loading and processing /Volumes/HITS/lsp-analysis/cycif-production/17-tuberculosis-aldridge/p17e20_NHPTB_IDOi_main/quantification/LSP23677--unmicst_cellRing.csv\n",
      "Loading LSP23677--unmicst_cellRing.csv\n"
     ]
    },
    {
     "name": "stderr",
     "output_type": "stream",
     "text": [
      "/var/folders/c1/hrvpnjdx3hq53yv639g1ylrw0000gq/T/ipykernel_97629/1474941236.py:6: FutureWarning:\n",
      "\n",
      "Series.__getitem__ treating keys as positions is deprecated. In a future version, integer keys will always be treated as labels (consistent with DataFrame behavior). To access a value by position, use `ser.iloc[pos]`\n",
      "\n",
      "/opt/anaconda3/envs/scimap/lib/python3.10/site-packages/mpl_scatter_density/generic_density_artist.py:77: RuntimeWarning:\n",
      "\n",
      "All-NaN slice encountered\n",
      "\n",
      "/opt/anaconda3/envs/scimap/lib/python3.10/site-packages/mpl_scatter_density/generic_density_artist.py:82: RuntimeWarning:\n",
      "\n",
      "All-NaN slice encountered\n",
      "\n"
     ]
    },
    {
     "name": "stdout",
     "output_type": "stream",
     "text": [
      "Saved heatmap to /Users/hitslsp/Desktop/NHP_Density_Plots/LSP23677--unmicst_cellRingdensityPlot2D.pdf\n",
      "Loading and processing /Volumes/HITS/lsp-analysis/cycif-production/17-tuberculosis-aldridge/p17e20_NHPTB_IDOi_main/quantification/LSP23652--unmicst_cellRing.csv\n",
      "Loading LSP23652--unmicst_cellRing.csv\n"
     ]
    },
    {
     "name": "stderr",
     "output_type": "stream",
     "text": [
      "/var/folders/c1/hrvpnjdx3hq53yv639g1ylrw0000gq/T/ipykernel_97629/1474941236.py:6: FutureWarning:\n",
      "\n",
      "Series.__getitem__ treating keys as positions is deprecated. In a future version, integer keys will always be treated as labels (consistent with DataFrame behavior). To access a value by position, use `ser.iloc[pos]`\n",
      "\n",
      "/opt/anaconda3/envs/scimap/lib/python3.10/site-packages/mpl_scatter_density/generic_density_artist.py:77: RuntimeWarning:\n",
      "\n",
      "All-NaN slice encountered\n",
      "\n",
      "/opt/anaconda3/envs/scimap/lib/python3.10/site-packages/mpl_scatter_density/generic_density_artist.py:82: RuntimeWarning:\n",
      "\n",
      "All-NaN slice encountered\n",
      "\n"
     ]
    },
    {
     "name": "stdout",
     "output_type": "stream",
     "text": [
      "Saved heatmap to /Users/hitslsp/Desktop/NHP_Density_Plots/LSP23652--unmicst_cellRingdensityPlot2D.pdf\n",
      "Loading and processing /Volumes/HITS/lsp-analysis/cycif-production/17-tuberculosis-aldridge/p17e20_NHPTB_IDOi_main/quantification/LSP23712--unmicst_cellRing.csv\n",
      "Loading LSP23712--unmicst_cellRing.csv\n"
     ]
    },
    {
     "name": "stderr",
     "output_type": "stream",
     "text": [
      "/var/folders/c1/hrvpnjdx3hq53yv639g1ylrw0000gq/T/ipykernel_97629/1474941236.py:6: FutureWarning:\n",
      "\n",
      "Series.__getitem__ treating keys as positions is deprecated. In a future version, integer keys will always be treated as labels (consistent with DataFrame behavior). To access a value by position, use `ser.iloc[pos]`\n",
      "\n",
      "/opt/anaconda3/envs/scimap/lib/python3.10/site-packages/mpl_scatter_density/generic_density_artist.py:77: RuntimeWarning:\n",
      "\n",
      "All-NaN slice encountered\n",
      "\n",
      "/opt/anaconda3/envs/scimap/lib/python3.10/site-packages/mpl_scatter_density/generic_density_artist.py:82: RuntimeWarning:\n",
      "\n",
      "All-NaN slice encountered\n",
      "\n"
     ]
    },
    {
     "name": "stdout",
     "output_type": "stream",
     "text": [
      "Saved heatmap to /Users/hitslsp/Desktop/NHP_Density_Plots/LSP23712--unmicst_cellRingdensityPlot2D.pdf\n",
      "Loading and processing /Volumes/HITS/lsp-analysis/cycif-production/17-tuberculosis-aldridge/p17e20_NHPTB_IDOi_main/quantification/LSP21981--unmicst_cellRing.csv\n",
      "Loading LSP21981--unmicst_cellRing.csv\n"
     ]
    },
    {
     "name": "stderr",
     "output_type": "stream",
     "text": [
      "/var/folders/c1/hrvpnjdx3hq53yv639g1ylrw0000gq/T/ipykernel_97629/1474941236.py:6: FutureWarning:\n",
      "\n",
      "Series.__getitem__ treating keys as positions is deprecated. In a future version, integer keys will always be treated as labels (consistent with DataFrame behavior). To access a value by position, use `ser.iloc[pos]`\n",
      "\n",
      "/opt/anaconda3/envs/scimap/lib/python3.10/site-packages/mpl_scatter_density/generic_density_artist.py:77: RuntimeWarning:\n",
      "\n",
      "All-NaN slice encountered\n",
      "\n",
      "/opt/anaconda3/envs/scimap/lib/python3.10/site-packages/mpl_scatter_density/generic_density_artist.py:82: RuntimeWarning:\n",
      "\n",
      "All-NaN slice encountered\n",
      "\n"
     ]
    },
    {
     "name": "stdout",
     "output_type": "stream",
     "text": [
      "Saved heatmap to /Users/hitslsp/Desktop/NHP_Density_Plots/LSP21981--unmicst_cellRingdensityPlot2D.pdf\n",
      "Loading and processing /Volumes/HITS/lsp-analysis/cycif-production/17-tuberculosis-aldridge/p17e20_NHPTB_IDOi_main/quantification/LSP23757--unmicst_cellRing.csv\n",
      "Loading LSP23757--unmicst_cellRing.csv\n"
     ]
    },
    {
     "name": "stderr",
     "output_type": "stream",
     "text": [
      "/var/folders/c1/hrvpnjdx3hq53yv639g1ylrw0000gq/T/ipykernel_97629/1474941236.py:6: FutureWarning:\n",
      "\n",
      "Series.__getitem__ treating keys as positions is deprecated. In a future version, integer keys will always be treated as labels (consistent with DataFrame behavior). To access a value by position, use `ser.iloc[pos]`\n",
      "\n",
      "/opt/anaconda3/envs/scimap/lib/python3.10/site-packages/mpl_scatter_density/generic_density_artist.py:77: RuntimeWarning:\n",
      "\n",
      "All-NaN slice encountered\n",
      "\n",
      "/opt/anaconda3/envs/scimap/lib/python3.10/site-packages/mpl_scatter_density/generic_density_artist.py:82: RuntimeWarning:\n",
      "\n",
      "All-NaN slice encountered\n",
      "\n"
     ]
    },
    {
     "name": "stdout",
     "output_type": "stream",
     "text": [
      "Saved heatmap to /Users/hitslsp/Desktop/NHP_Density_Plots/LSP23757--unmicst_cellRingdensityPlot2D.pdf\n",
      "Loading and processing /Volumes/HITS/lsp-analysis/cycif-production/17-tuberculosis-aldridge/p17e20_NHPTB_IDOi_main/quantification/LSP23742--unmicst_cellRing.csv\n",
      "Loading LSP23742--unmicst_cellRing.csv\n"
     ]
    },
    {
     "name": "stderr",
     "output_type": "stream",
     "text": [
      "/var/folders/c1/hrvpnjdx3hq53yv639g1ylrw0000gq/T/ipykernel_97629/1474941236.py:6: FutureWarning:\n",
      "\n",
      "Series.__getitem__ treating keys as positions is deprecated. In a future version, integer keys will always be treated as labels (consistent with DataFrame behavior). To access a value by position, use `ser.iloc[pos]`\n",
      "\n",
      "/opt/anaconda3/envs/scimap/lib/python3.10/site-packages/mpl_scatter_density/generic_density_artist.py:77: RuntimeWarning:\n",
      "\n",
      "All-NaN slice encountered\n",
      "\n",
      "/opt/anaconda3/envs/scimap/lib/python3.10/site-packages/mpl_scatter_density/generic_density_artist.py:82: RuntimeWarning:\n",
      "\n",
      "All-NaN slice encountered\n",
      "\n"
     ]
    },
    {
     "name": "stdout",
     "output_type": "stream",
     "text": [
      "Saved heatmap to /Users/hitslsp/Desktop/NHP_Density_Plots/LSP23742--unmicst_cellRingdensityPlot2D.pdf\n",
      "Loading and processing /Volumes/HITS/lsp-analysis/cycif-production/17-tuberculosis-aldridge/p17e20_NHPTB_IDOi_main/quantification/LSP23637--unmicst_cellRing.csv\n",
      "Loading LSP23637--unmicst_cellRing.csv\n"
     ]
    },
    {
     "name": "stderr",
     "output_type": "stream",
     "text": [
      "/var/folders/c1/hrvpnjdx3hq53yv639g1ylrw0000gq/T/ipykernel_97629/1474941236.py:6: FutureWarning:\n",
      "\n",
      "Series.__getitem__ treating keys as positions is deprecated. In a future version, integer keys will always be treated as labels (consistent with DataFrame behavior). To access a value by position, use `ser.iloc[pos]`\n",
      "\n",
      "/opt/anaconda3/envs/scimap/lib/python3.10/site-packages/mpl_scatter_density/generic_density_artist.py:77: RuntimeWarning:\n",
      "\n",
      "All-NaN slice encountered\n",
      "\n",
      "/opt/anaconda3/envs/scimap/lib/python3.10/site-packages/mpl_scatter_density/generic_density_artist.py:82: RuntimeWarning:\n",
      "\n",
      "All-NaN slice encountered\n",
      "\n"
     ]
    },
    {
     "name": "stdout",
     "output_type": "stream",
     "text": [
      "Saved heatmap to /Users/hitslsp/Desktop/NHP_Density_Plots/LSP23637--unmicst_cellRingdensityPlot2D.pdf\n",
      "Loading and processing /Volumes/HITS/lsp-analysis/cycif-production/17-tuberculosis-aldridge/p17e20_NHPTB_IDOi_main/quantification/LSP23657--unmicst_cellRing.csv\n",
      "Loading LSP23657--unmicst_cellRing.csv\n"
     ]
    },
    {
     "name": "stderr",
     "output_type": "stream",
     "text": [
      "/var/folders/c1/hrvpnjdx3hq53yv639g1ylrw0000gq/T/ipykernel_97629/1474941236.py:6: FutureWarning:\n",
      "\n",
      "Series.__getitem__ treating keys as positions is deprecated. In a future version, integer keys will always be treated as labels (consistent with DataFrame behavior). To access a value by position, use `ser.iloc[pos]`\n",
      "\n",
      "/opt/anaconda3/envs/scimap/lib/python3.10/site-packages/mpl_scatter_density/generic_density_artist.py:77: RuntimeWarning:\n",
      "\n",
      "All-NaN slice encountered\n",
      "\n",
      "/opt/anaconda3/envs/scimap/lib/python3.10/site-packages/mpl_scatter_density/generic_density_artist.py:82: RuntimeWarning:\n",
      "\n",
      "All-NaN slice encountered\n",
      "\n"
     ]
    },
    {
     "name": "stdout",
     "output_type": "stream",
     "text": [
      "Saved heatmap to /Users/hitslsp/Desktop/NHP_Density_Plots/LSP23657--unmicst_cellRingdensityPlot2D.pdf\n",
      "Loading and processing /Volumes/HITS/lsp-analysis/cycif-production/17-tuberculosis-aldridge/p17e20_NHPTB_IDOi_main/quantification/LSP23777--unmicst_cellRing.csv\n",
      "Loading LSP23777--unmicst_cellRing.csv\n"
     ]
    },
    {
     "name": "stderr",
     "output_type": "stream",
     "text": [
      "/var/folders/c1/hrvpnjdx3hq53yv639g1ylrw0000gq/T/ipykernel_97629/1474941236.py:6: FutureWarning:\n",
      "\n",
      "Series.__getitem__ treating keys as positions is deprecated. In a future version, integer keys will always be treated as labels (consistent with DataFrame behavior). To access a value by position, use `ser.iloc[pos]`\n",
      "\n",
      "/opt/anaconda3/envs/scimap/lib/python3.10/site-packages/mpl_scatter_density/generic_density_artist.py:77: RuntimeWarning:\n",
      "\n",
      "All-NaN slice encountered\n",
      "\n",
      "/opt/anaconda3/envs/scimap/lib/python3.10/site-packages/mpl_scatter_density/generic_density_artist.py:82: RuntimeWarning:\n",
      "\n",
      "All-NaN slice encountered\n",
      "\n"
     ]
    },
    {
     "name": "stdout",
     "output_type": "stream",
     "text": [
      "Saved heatmap to /Users/hitslsp/Desktop/NHP_Density_Plots/LSP23777--unmicst_cellRingdensityPlot2D.pdf\n",
      "Loading and processing /Volumes/HITS/lsp-analysis/cycif-production/17-tuberculosis-aldridge/p17e20_NHPTB_IDOi_main/quantification/LSP21926--unmicst_cellRing.csv\n",
      "Loading LSP21926--unmicst_cellRing.csv\n"
     ]
    },
    {
     "name": "stderr",
     "output_type": "stream",
     "text": [
      "/var/folders/c1/hrvpnjdx3hq53yv639g1ylrw0000gq/T/ipykernel_97629/1474941236.py:6: FutureWarning:\n",
      "\n",
      "Series.__getitem__ treating keys as positions is deprecated. In a future version, integer keys will always be treated as labels (consistent with DataFrame behavior). To access a value by position, use `ser.iloc[pos]`\n",
      "\n",
      "/opt/anaconda3/envs/scimap/lib/python3.10/site-packages/mpl_scatter_density/generic_density_artist.py:77: RuntimeWarning:\n",
      "\n",
      "All-NaN slice encountered\n",
      "\n",
      "/opt/anaconda3/envs/scimap/lib/python3.10/site-packages/mpl_scatter_density/generic_density_artist.py:82: RuntimeWarning:\n",
      "\n",
      "All-NaN slice encountered\n",
      "\n"
     ]
    },
    {
     "name": "stdout",
     "output_type": "stream",
     "text": [
      "Saved heatmap to /Users/hitslsp/Desktop/NHP_Density_Plots/LSP21926--unmicst_cellRingdensityPlot2D.pdf\n",
      "Loading and processing /Volumes/HITS/lsp-analysis/cycif-production/17-tuberculosis-aldridge/p17e20_NHPTB_IDOi_main/quantification/LSP21961--unmicst_cellRing.csv\n",
      "Loading LSP21961--unmicst_cellRing.csv\n"
     ]
    },
    {
     "name": "stderr",
     "output_type": "stream",
     "text": [
      "/var/folders/c1/hrvpnjdx3hq53yv639g1ylrw0000gq/T/ipykernel_97629/1474941236.py:6: FutureWarning:\n",
      "\n",
      "Series.__getitem__ treating keys as positions is deprecated. In a future version, integer keys will always be treated as labels (consistent with DataFrame behavior). To access a value by position, use `ser.iloc[pos]`\n",
      "\n",
      "/opt/anaconda3/envs/scimap/lib/python3.10/site-packages/mpl_scatter_density/generic_density_artist.py:77: RuntimeWarning:\n",
      "\n",
      "All-NaN slice encountered\n",
      "\n",
      "/opt/anaconda3/envs/scimap/lib/python3.10/site-packages/mpl_scatter_density/generic_density_artist.py:82: RuntimeWarning:\n",
      "\n",
      "All-NaN slice encountered\n",
      "\n"
     ]
    },
    {
     "name": "stdout",
     "output_type": "stream",
     "text": [
      "Saved heatmap to /Users/hitslsp/Desktop/NHP_Density_Plots/LSP21961--unmicst_cellRingdensityPlot2D.pdf\n",
      "Loading and processing /Volumes/HITS/lsp-analysis/cycif-production/17-tuberculosis-aldridge/p17e20_NHPTB_IDOi_main/quantification/LSP23817--unmicst_cellRing.csv\n",
      "Loading LSP23817--unmicst_cellRing.csv\n"
     ]
    },
    {
     "name": "stderr",
     "output_type": "stream",
     "text": [
      "/var/folders/c1/hrvpnjdx3hq53yv639g1ylrw0000gq/T/ipykernel_97629/1474941236.py:6: FutureWarning:\n",
      "\n",
      "Series.__getitem__ treating keys as positions is deprecated. In a future version, integer keys will always be treated as labels (consistent with DataFrame behavior). To access a value by position, use `ser.iloc[pos]`\n",
      "\n",
      "/opt/anaconda3/envs/scimap/lib/python3.10/site-packages/mpl_scatter_density/generic_density_artist.py:77: RuntimeWarning:\n",
      "\n",
      "All-NaN slice encountered\n",
      "\n",
      "/opt/anaconda3/envs/scimap/lib/python3.10/site-packages/mpl_scatter_density/generic_density_artist.py:82: RuntimeWarning:\n",
      "\n",
      "All-NaN slice encountered\n",
      "\n"
     ]
    },
    {
     "name": "stdout",
     "output_type": "stream",
     "text": [
      "Saved heatmap to /Users/hitslsp/Desktop/NHP_Density_Plots/LSP23817--unmicst_cellRingdensityPlot2D.pdf\n",
      "Loading and processing /Volumes/HITS/lsp-analysis/cycif-production/17-tuberculosis-aldridge/p17e20_NHPTB_IDOi_main/quantification/LSP23772--unmicst_cellRing.csv\n",
      "Loading LSP23772--unmicst_cellRing.csv\n"
     ]
    },
    {
     "name": "stderr",
     "output_type": "stream",
     "text": [
      "/var/folders/c1/hrvpnjdx3hq53yv639g1ylrw0000gq/T/ipykernel_97629/1474941236.py:6: FutureWarning:\n",
      "\n",
      "Series.__getitem__ treating keys as positions is deprecated. In a future version, integer keys will always be treated as labels (consistent with DataFrame behavior). To access a value by position, use `ser.iloc[pos]`\n",
      "\n",
      "/opt/anaconda3/envs/scimap/lib/python3.10/site-packages/mpl_scatter_density/generic_density_artist.py:77: RuntimeWarning:\n",
      "\n",
      "All-NaN slice encountered\n",
      "\n",
      "/opt/anaconda3/envs/scimap/lib/python3.10/site-packages/mpl_scatter_density/generic_density_artist.py:82: RuntimeWarning:\n",
      "\n",
      "All-NaN slice encountered\n",
      "\n"
     ]
    },
    {
     "name": "stdout",
     "output_type": "stream",
     "text": [
      "Saved heatmap to /Users/hitslsp/Desktop/NHP_Density_Plots/LSP23772--unmicst_cellRingdensityPlot2D.pdf\n",
      "Loading and processing /Volumes/HITS/lsp-analysis/cycif-production/17-tuberculosis-aldridge/p17e20_NHPTB_IDOi_main/quantification/LSP23717--unmicst_cellRing.csv\n",
      "Loading LSP23717--unmicst_cellRing.csv\n"
     ]
    },
    {
     "name": "stderr",
     "output_type": "stream",
     "text": [
      "/var/folders/c1/hrvpnjdx3hq53yv639g1ylrw0000gq/T/ipykernel_97629/1474941236.py:6: FutureWarning:\n",
      "\n",
      "Series.__getitem__ treating keys as positions is deprecated. In a future version, integer keys will always be treated as labels (consistent with DataFrame behavior). To access a value by position, use `ser.iloc[pos]`\n",
      "\n",
      "/opt/anaconda3/envs/scimap/lib/python3.10/site-packages/mpl_scatter_density/generic_density_artist.py:77: RuntimeWarning:\n",
      "\n",
      "All-NaN slice encountered\n",
      "\n",
      "/opt/anaconda3/envs/scimap/lib/python3.10/site-packages/mpl_scatter_density/generic_density_artist.py:82: RuntimeWarning:\n",
      "\n",
      "All-NaN slice encountered\n",
      "\n"
     ]
    },
    {
     "name": "stdout",
     "output_type": "stream",
     "text": [
      "Saved heatmap to /Users/hitslsp/Desktop/NHP_Density_Plots/LSP23717--unmicst_cellRingdensityPlot2D.pdf\n"
     ]
    }
   ],
   "source": [
    "savedir = '/Users/hitslsp/Desktop/NHP_Density_Plots'\n",
    "#for each image, create a density plot. Marker A (SOX10) is reference marker. \n",
    "for f in quant_files:\n",
    "    print(f'Loading and processing {f}')\n",
    "    adata = sm.pp.mcmicro_to_scimap([f], remove_dna=False, log = True) \n",
    "    imageid = adata.obs['imageid'][0]\n",
    "    sm.pl.densityPlot2D(adata, 'panCK', markerB=None, layer=None, ncols=None, cmap='jet', figsize=(3, 3), \n",
    "                    hline='auto', vline='auto', fontsize=None, dpi=100, xticks=None, yticks=None, saveDir=savedir, \n",
    "                    fileName='{}densityPlot2D.pdf'.format(imageid)) "
   ]
  },
  {
   "cell_type": "code",
   "execution_count": null,
   "id": "52dd119f-9e79-4270-a749-41700b28ae7c",
   "metadata": {},
   "outputs": [],
   "source": []
  }
 ],
 "metadata": {
  "kernelspec": {
   "display_name": "Python 3 (ipykernel)",
   "language": "python",
   "name": "python3"
  },
  "language_info": {
   "codemirror_mode": {
    "name": "ipython",
    "version": 3
   },
   "file_extension": ".py",
   "mimetype": "text/x-python",
   "name": "python",
   "nbconvert_exporter": "python",
   "pygments_lexer": "ipython3",
   "version": "3.11.7"
  }
 },
 "nbformat": 4,
 "nbformat_minor": 5
}
